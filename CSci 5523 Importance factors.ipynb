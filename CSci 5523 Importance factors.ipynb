{
 "cells": [
  {
   "cell_type": "code",
   "execution_count": 1,
   "metadata": {},
   "outputs": [],
   "source": [
    "# the necessary imports\n",
    "import numpy as np\n",
    "import pandas as pd\n",
    "from sklearn.model_selection import train_test_split\n",
    "from sklearn.tree import DecisionTreeClassifier\n",
    "from sklearn.model_selection import cross_val_score\n",
    "from sklearn.metrics import confusion_matrix\n",
    "from sklearn.metrics import accuracy_score\n",
    "from sklearn.metrics import log_loss\n",
    "import sklearn.tree as scikit\n",
    "import math\n",
    "from sklearn.preprocessing import MultiLabelBinarizer\n",
    "import matplotlib.pyplot as plt\n",
    "import imblearn\n",
    "from imblearn.over_sampling import RandomOverSampler\n",
    "from imblearn.under_sampling import RandomUnderSampler\n",
    "from collections import Counter\n",
    "import statsmodels.api as sm"
   ]
  },
  {
   "cell_type": "code",
   "execution_count": 2,
   "metadata": {},
   "outputs": [],
   "source": [
    "import seaborn as sn"
   ]
  },
  {
   "cell_type": "code",
   "execution_count": 3,
   "metadata": {
    "scrolled": true
   },
   "outputs": [],
   "source": [
    "data=pd.read_csv('C:/Users/SnarfBob/Desktop/CSci 5523/group proj/train.csv')"
   ]
  },
  {
   "cell_type": "code",
   "execution_count": 3,
   "metadata": {},
   "outputs": [],
   "source": [
    "data_no_re=pd.read_csv('C:/Users/SnarfBob/Desktop/CSci 5523/group proj/train no redundant.csv')"
   ]
  },
  {
   "cell_type": "code",
   "execution_count": 4,
   "metadata": {},
   "outputs": [],
   "source": [
    "data_no_re_low=pd.read_csv('C:/Users/SnarfBob/Desktop/CSci 5523/group proj/train no redundant or low.csv')"
   ]
  },
  {
   "cell_type": "code",
   "execution_count": 5,
   "metadata": {
    "collapsed": true
   },
   "outputs": [
    {
     "name": "stdout",
     "output_type": "stream",
     "text": [
      "(61878, 65)\n",
      "   id  f1  f8  f9  f11  f13  f14  f15  f16  f17  ...  f79  f83  f85  f86  f87  \\\n",
      "0   1   1   0   0    1    0    0    0    0    2  ...    2    0    1    0    0   \n",
      "1   2   0   1   0    0    0    0    0    0    0  ...    0    0    0    0    0   \n",
      "2   3   0   1   0    0    0    0    0    0    1  ...    0    0    0    0    0   \n",
      "3   4   1   0   0    1    1    0    0    1    1  ...    1    0    0    1    2   \n",
      "4   5   0   0   0    0    0    0    0    0    4  ...    4    0    1    0    0   \n",
      "\n",
      "   f88  f90  f91  f92  class  \n",
      "0    0    0    0    0      1  \n",
      "1    0    0    0    0      1  \n",
      "2    0    0    0    0      1  \n",
      "3    0    0    0    0      1  \n",
      "4    0    1    0    0      1  \n",
      "\n",
      "[5 rows x 65 columns]\n"
     ]
    }
   ],
   "source": [
    "print(data_no_re_low.shape)\n",
    "print(data_no_re_low.head())"
   ]
  },
  {
   "cell_type": "code",
   "execution_count": 4,
   "metadata": {
    "collapsed": true
   },
   "outputs": [
    {
     "name": "stdout",
     "output_type": "stream",
     "text": [
      "   f1  f2  f3  f4  f5  f6  f7  f8  f9  f10  ...  f84  f85  f86  f87  f88  f89  \\\n",
      "0   1   0   0   0   0   0   0   0   0    0  ...    0    1    0    0    0    0   \n",
      "1   0   0   0   0   0   0   0   1   0    0  ...    0    0    0    0    0    0   \n",
      "2   0   0   0   0   0   0   0   1   0    0  ...    0    0    0    0    0    0   \n",
      "3   1   0   0   1   6   1   5   0   0    1  ...   22    0    1    2    0    0   \n",
      "4   0   0   0   0   0   0   0   0   0    0  ...    0    1    0    0    0    0   \n",
      "\n",
      "   f90  f91  f92  f93  \n",
      "0    0    0    0    0  \n",
      "1    0    0    0    0  \n",
      "2    0    0    0    0  \n",
      "3    0    0    0    0  \n",
      "4    1    0    0    0  \n",
      "\n",
      "[5 rows x 93 columns]\n",
      "0    1\n",
      "1    1\n",
      "2    1\n",
      "3    1\n",
      "4    1\n",
      "Name: class, dtype: int64\n"
     ]
    }
   ],
   "source": [
    "datax=data.iloc[0:61878,1:94]\n",
    "datay=data.iloc[0:61878,94]\n",
    "print(datax.head())\n",
    "print(datay.head())"
   ]
  },
  {
   "cell_type": "code",
   "execution_count": 7,
   "metadata": {
    "collapsed": true
   },
   "outputs": [
    {
     "name": "stdout",
     "output_type": "stream",
     "text": [
      "   f1  f2  f5  f6  f7  f8  f9  f10  f11  f12  ...  f84  f85  f86  f87  f88  \\\n",
      "0   1   0   0   0   0   0   0    0    1    0  ...    0    1    0    0    0   \n",
      "1   0   0   0   0   0   1   0    0    0    0  ...    0    0    0    0    0   \n",
      "2   0   0   0   0   0   1   0    0    0    0  ...    0    0    0    0    0   \n",
      "3   1   0   6   1   5   0   0    1    1    0  ...   22    0    1    2    0   \n",
      "4   0   0   0   0   0   0   0    0    0    0  ...    0    1    0    0    0   \n",
      "\n",
      "   f89  f90  f91  f92  f93  \n",
      "0    0    0    0    0    0  \n",
      "1    0    0    0    0    0  \n",
      "2    0    0    0    0    0  \n",
      "3    0    0    0    0    0  \n",
      "4    0    1    0    0    0  \n",
      "\n",
      "[5 rows x 86 columns]\n",
      "0    1\n",
      "1    1\n",
      "2    1\n",
      "3    1\n",
      "4    1\n",
      "Name: class, dtype: int64\n"
     ]
    }
   ],
   "source": [
    "datax_nore=data_no_re.iloc[0:61878,1:87]\n",
    "datay_nore=data_no_re.iloc[0:61878,87]\n",
    "print(datax_nore.head())\n",
    "print(datay_nore.head())"
   ]
  },
  {
   "cell_type": "code",
   "execution_count": 8,
   "metadata": {
    "collapsed": true
   },
   "outputs": [
    {
     "name": "stdout",
     "output_type": "stream",
     "text": [
      "   f1  f8  f9  f11  f13  f14  f15  f16  f17  f18  ...  f78  f79  f83  f85  \\\n",
      "0   1   0   0    1    0    0    0    0    2    0  ...    0    2    0    1   \n",
      "1   0   1   0    0    0    0    0    0    0    2  ...    1    0    0    0   \n",
      "2   0   1   0    0    0    0    0    0    1    0  ...    0    0    0    0   \n",
      "3   1   0   0    1    1    0    0    1    1    0  ...    0    1    0    0   \n",
      "4   0   0   0    0    0    0    0    0    4    0  ...    0    4    0    1   \n",
      "\n",
      "   f86  f87  f88  f90  f91  f92  \n",
      "0    0    0    0    0    0    0  \n",
      "1    0    0    0    0    0    0  \n",
      "2    0    0    0    0    0    0  \n",
      "3    1    2    0    0    0    0  \n",
      "4    0    0    0    1    0    0  \n",
      "\n",
      "[5 rows x 63 columns]\n",
      "0    1\n",
      "1    1\n",
      "2    1\n",
      "3    1\n",
      "4    1\n",
      "Name: class, dtype: int64\n"
     ]
    }
   ],
   "source": [
    "datax_norelow=data_no_re_low.iloc[0:61878,1:64]\n",
    "datay_norelow=data_no_re_low.iloc[0:61878,64]\n",
    "print(datax_norelow.head())\n",
    "print(datay_norelow.head())"
   ]
  },
  {
   "cell_type": "code",
   "execution_count": 110,
   "metadata": {
    "collapsed": true
   },
   "outputs": [
    {
     "name": "stdout",
     "output_type": "stream",
     "text": [
      "           f1        f2        f3        f4        f5        f6        f7  \\\n",
      "f1   1.000000  0.031332 -0.027807 -0.027529  0.042973  0.043603  0.298952   \n",
      "f2   0.031332  1.000000  0.082573  0.134987  0.020926  0.041343  0.222386   \n",
      "f3  -0.027807  0.082573  1.000000  0.583523  0.010880  0.004288  0.001294   \n",
      "f4  -0.027529  0.134987  0.583523  1.000000  0.017290  0.014059  0.014490   \n",
      "f5   0.042973  0.020926  0.010880  0.017290  1.000000  0.145355  0.075047   \n",
      "..        ...       ...       ...       ...       ...       ...       ...   \n",
      "f89  0.096851  0.105527  0.174781  0.183715  0.119951  0.035042  0.063511   \n",
      "f90  0.010310  0.515022 -0.015068  0.009454  0.004842  0.054034  0.129578   \n",
      "f91  0.037264  0.026383 -0.012417 -0.010312  0.012012  0.012465  0.068506   \n",
      "f92  0.054777 -0.008219  0.066921  0.087631  0.065331  0.015479 -0.032261   \n",
      "f93  0.081783  0.054593  0.006814  0.015746  0.002038  0.008521  0.034912   \n",
      "\n",
      "           f8        f9       f10  ...       f84       f85       f86  \\\n",
      "f1   0.056321 -0.032285  0.097776  ...  0.049634 -0.008739  0.107947   \n",
      "f2   0.019815 -0.025630  0.051925  ...  0.009845 -0.006764 -0.039090   \n",
      "f3  -0.053462 -0.063551  0.036944  ...  0.011159 -0.048626 -0.096093   \n",
      "f4  -0.046184 -0.046250  0.059514  ...  0.005684 -0.033153 -0.071029   \n",
      "f5   0.035861 -0.024708  0.091324  ...  0.467329  0.034062  0.013879   \n",
      "..        ...       ...       ...  ...       ...       ...       ...   \n",
      "f89  0.007974 -0.019147  0.061498  ...  0.103643  0.053582 -0.011822   \n",
      "f90  0.026807 -0.020698  0.049908  ... -0.006013 -0.003931 -0.019803   \n",
      "f91  0.095990 -0.014742  0.024025  ... -0.003444 -0.023091 -0.024005   \n",
      "f92  0.013608 -0.069707 -0.006869  ...  0.048431 -0.043484 -0.049393   \n",
      "f93  0.005131 -0.006038  0.041316  ...  0.003723  0.023390  0.029035   \n",
      "\n",
      "          f87       f88       f89       f90       f91       f92       f93  \n",
      "f1   0.089374  0.020830  0.096851  0.010310  0.037264  0.054777  0.081783  \n",
      "f2   0.047451 -0.047035  0.105527  0.515022  0.026383 -0.008219  0.054593  \n",
      "f3  -0.009838 -0.082336  0.174781 -0.015068 -0.012417  0.066921  0.006814  \n",
      "f4   0.005055 -0.067484  0.183715  0.009454 -0.010312  0.087631  0.015746  \n",
      "f5   0.013999 -0.019201  0.119951  0.004842  0.012012  0.065331  0.002038  \n",
      "..        ...       ...       ...       ...       ...       ...       ...  \n",
      "f89  0.066008 -0.022552  1.000000  0.027764  0.015917  0.129622  0.030650  \n",
      "f90  0.014696 -0.031679  0.027764  1.000000  0.014812 -0.035311  0.039864  \n",
      "f91  0.028850 -0.033653  0.015917  0.014812  1.000000  0.104226 -0.000045  \n",
      "f92  0.001424 -0.070120  0.129622 -0.035311  0.104226  1.000000 -0.003653  \n",
      "f93  0.499990 -0.008631  0.030650  0.039864 -0.000045 -0.003653  1.000000  \n",
      "\n",
      "[93 rows x 93 columns]\n"
     ]
    }
   ],
   "source": [
    "# create correlation matrix\n",
    "cormat = datax.corr()"
   ]
  },
  {
   "cell_type": "code",
   "execution_count": 120,
   "metadata": {},
   "outputs": [],
   "source": [
    "cormat1=pd.DataFrame(cormat)"
   ]
  },
  {
   "cell_type": "code",
   "execution_count": 121,
   "metadata": {},
   "outputs": [],
   "source": [
    "cormat1.to_csv(\"cormat1.csv\")"
   ]
  },
  {
   "cell_type": "code",
   "execution_count": 9,
   "metadata": {},
   "outputs": [],
   "source": [
    "oversampler = RandomOverSampler(sampling_strategy='not majority', random_state=0)"
   ]
  },
  {
   "cell_type": "code",
   "execution_count": 60,
   "metadata": {},
   "outputs": [],
   "source": [
    "undersampler = RandomUnderSampler(sampling_strategy='not minority', random_state=0)"
   ]
  },
  {
   "cell_type": "code",
   "execution_count": 10,
   "metadata": {},
   "outputs": [],
   "source": [
    "x_train, x_test, y_train, y_test = train_test_split(datax, datay, test_size=0.25, random_state=0, stratify=datay)"
   ]
  },
  {
   "cell_type": "code",
   "execution_count": 11,
   "metadata": {},
   "outputs": [],
   "source": [
    "x_train_nore, x_test_nore, y_train_nore, y_test_nore = train_test_split(datax_nore, datay_nore, test_size=0.25, random_state=0, stratify=datay_nore)"
   ]
  },
  {
   "cell_type": "code",
   "execution_count": 12,
   "metadata": {},
   "outputs": [],
   "source": [
    "x_train_norelow, x_test_norelow, y_train_norelow, y_test_norelow = train_test_split(datax_norelow, datay_norelow, test_size=0.25, random_state=0, stratify=datay_norelow)"
   ]
  },
  {
   "cell_type": "code",
   "execution_count": 13,
   "metadata": {},
   "outputs": [],
   "source": [
    "overx, overy = oversampler.fit_resample(x_train, y_train)"
   ]
  },
  {
   "cell_type": "code",
   "execution_count": 14,
   "metadata": {},
   "outputs": [],
   "source": [
    "overx_nore, overy_nore = oversampler.fit_resample(x_train_nore, y_train_nore)"
   ]
  },
  {
   "cell_type": "code",
   "execution_count": 15,
   "metadata": {},
   "outputs": [],
   "source": [
    "overx_norelow, overy_norelow = oversampler.fit_resample(x_train_norelow, y_train_norelow)"
   ]
  },
  {
   "cell_type": "code",
   "execution_count": 63,
   "metadata": {},
   "outputs": [],
   "source": [
    "underx, undery = undersampler.fit_resample(x_train, y_train)"
   ]
  },
  {
   "cell_type": "code",
   "execution_count": 26,
   "metadata": {},
   "outputs": [],
   "source": [
    "overtree = DecisionTreeClassifier(criterion='entropy', splitter='best')\n",
    "overtree_fit=overtree.fit(overx, overy)\n",
    "y_pred_overtree = overtree_fit.predict(x_test)\n",
    "accuracy_score(y_test, y_pred_overtree)"
   ]
  },
  {
   "cell_type": "code",
   "execution_count": 38,
   "metadata": {},
   "outputs": [
    {
     "data": {
      "text/plain": [
       "0.741305753070459"
      ]
     },
     "execution_count": 38,
     "metadata": {},
     "output_type": "execute_result"
    }
   ],
   "source": [
    "#from sklearn.neighbors import KNeighborsClassifier\n",
    "neigh = KNeighborsClassifier(n_neighbors=5)\n",
    "neigh.fit(overx, overy)\n",
    "y_pred_knn = neigh.predict(x_test)\n",
    "accuracy_score(y_test_nore, y_pred_knn)"
   ]
  },
  {
   "cell_type": "code",
   "execution_count": 39,
   "metadata": {},
   "outputs": [
    {
     "data": {
      "text/plain": [
       "0.7398190045248869"
      ]
     },
     "execution_count": 39,
     "metadata": {},
     "output_type": "execute_result"
    }
   ],
   "source": [
    "neigh_nore = KNeighborsClassifier(n_neighbors=5)\n",
    "neigh_nore.fit(overx_nore, overy_nore)\n",
    "y_pred_knn_nore = neigh_nore.predict(x_test_nore)\n",
    "accuracy_score(y_test_nore, y_pred_knn_nore)"
   ]
  },
  {
   "cell_type": "code",
   "execution_count": 46,
   "metadata": {},
   "outputs": [
    {
     "data": {
      "text/plain": [
       "0.7381383322559794"
      ]
     },
     "execution_count": 46,
     "metadata": {},
     "output_type": "execute_result"
    }
   ],
   "source": [
    "neigh_norelow = KNeighborsClassifier(n_neighbors=5)\n",
    "neigh_norelow.fit(overx_norelow, overy_norelow)\n",
    "y_pred_knn_norelow = neigh_norelow.predict(x_test_norelow)\n",
    "accuracy_score(y_test_norelow, y_pred_knn_norelow)"
   ]
  },
  {
   "cell_type": "code",
   "execution_count": 97,
   "metadata": {},
   "outputs": [],
   "source": [
    "undertree = DecisionTreeClassifier(criterion='entropy', splitter='best', max_depth=None, min_samples_split=4, \n",
    "                             min_samples_leaf=2, min_weight_fraction_leaf=0.0, max_features=None, random_state=None, \n",
    "                             max_leaf_nodes=None, min_impurity_decrease=0.0001, class_weight=None, ccp_alpha=0.0)"
   ]
  },
  {
   "cell_type": "code",
   "execution_count": 98,
   "metadata": {},
   "outputs": [],
   "source": [
    "undertree_fit=undertree.fit(underx, undery)"
   ]
  },
  {
   "cell_type": "code",
   "execution_count": 99,
   "metadata": {},
   "outputs": [],
   "source": [
    "y_pred_undertree = undertree_fit.predict(x_test)"
   ]
  },
  {
   "cell_type": "code",
   "execution_count": 100,
   "metadata": {},
   "outputs": [
    {
     "data": {
      "text/plain": [
       "0.616677440206852"
      ]
     },
     "execution_count": 100,
     "metadata": {},
     "output_type": "execute_result"
    }
   ],
   "source": [
    "accuracy_score(y_test, y_pred_undertree)"
   ]
  },
  {
   "cell_type": "code",
   "execution_count": 84,
   "metadata": {
    "collapsed": true
   },
   "outputs": [
    {
     "name": "stdout",
     "output_type": "stream",
     "text": [
      "f1 0.005952879488093526\n",
      "f2 0.0009593706669244358\n",
      "f3 0.0011562911265328697\n",
      "f4 0.0016007879529752716\n",
      "f5 0.002653886790135046\n",
      "f6 7.329762993138692e-05\n",
      "f7 0.0017978630626584958\n",
      "f8 0.013325419287532395\n",
      "f9 0.018524016823369783\n",
      "f10 0.0027095675465508024\n",
      "f11 0.05295369289698497\n",
      "f12 0.0009579397797491823\n",
      "f13 0.004258072348896897\n",
      "f14 0.05063072795006323\n",
      "f15 0.04659885093026308\n",
      "f16 0.00918496282869007\n",
      "f17 0.012954930930400226\n",
      "f18 0.0048171970301264895\n",
      "f19 0.0012439101354115233\n",
      "f20 0.004120644682556249\n",
      "f21 0.0018058966854826231\n",
      "f22 0.003485429098503257\n",
      "f23 0.001845931291529218\n",
      "f24 0.015144174518835603\n",
      "f25 0.022873645436304275\n",
      "f26 0.015328468197954408\n",
      "f27 0.0022672883022551737\n",
      "f28 0.0007847511298542095\n",
      "f29 0.0034326284771246073\n",
      "f30 0.009435639043379627\n",
      "f31 0.0005371430945347266\n",
      "f32 0.013270920444745723\n",
      "f33 0.007445847347126364\n",
      "f34 0.13601641645188764\n",
      "f35 0.003503872242146635\n",
      "f36 0.027740425462313693\n",
      "f37 0.00480333720996706\n",
      "f38 0.005338589809540175\n",
      "f39 0.03723098062134488\n",
      "f40 0.02100616617229967\n",
      "f41 0.00458657667244736\n",
      "f42 0.016024200207783796\n",
      "f43 0.010414871469865885\n",
      "f44 0.0037498310157641646\n",
      "f45 0.0022321826190067734\n",
      "f46 0.0007550521207170072\n",
      "f47 0.0066619640483063965\n",
      "f48 0.015308587365669167\n",
      "f49 0.001254589273396645\n",
      "f50 0.009898261678251368\n",
      "f51 0.0005801026856206218\n",
      "f52 0.0008279713391304394\n",
      "f53 0.017880280499247687\n",
      "f54 0.007830757205147532\n",
      "f55 0.0037140130744444774\n",
      "f56 0.008109072409346009\n",
      "f57 0.004133837076788239\n",
      "f58 0.00361819088234443\n",
      "f59 0.007366742668756957\n",
      "f60 0.03868068930726545\n",
      "f61 0.00043710844865275575\n",
      "f62 0.020237482055733513\n",
      "f63 0.0021043901383674397\n",
      "f64 0.01095516081117756\n",
      "f65 0.002713404081190779\n",
      "f66 0.00479702298121588\n",
      "f67 0.03579221684151099\n",
      "f68 0.01069648330922609\n",
      "f69 0.010908251427673382\n",
      "f70 0.00795468840319744\n",
      "f71 0.007133125190971348\n",
      "f72 0.01052755613872001\n",
      "f73 0.002765594194012211\n",
      "f74 0.0038527694570340614\n",
      "f75 0.011607263408280099\n",
      "f76 0.007889603358393322\n",
      "f77 0.0019376309992302913\n",
      "f78 0.009283690291893373\n",
      "f79 0.004025934960359473\n",
      "f80 0.0025015700977367885\n",
      "f81 0.0009289127753400768\n",
      "f82 0.0002817702025024084\n",
      "f83 0.0039014613263994224\n",
      "f84 0.0005248587494770533\n",
      "f85 0.0077800314646400874\n",
      "f86 0.029411556381415526\n",
      "f87 0.005070148551095413\n",
      "f88 0.012215419981441466\n",
      "f89 0.0025267678197186507\n",
      "f90 0.02346582701015536\n",
      "f91 0.004637886968797883\n",
      "f92 0.0055973824848278295\n",
      "f93 0.00213739514533599\n"
     ]
    }
   ],
   "source": [
    "#since the tree with oversampling did so much better than the tree with undersampling it makes sense to use the tree with\n",
    "#undersampling to get the importance features\n",
    "for name, importance in zip(datax.columns, overtree_fit.feature_importances_):\n",
    "    print(name, importance)"
   ]
  },
  {
   "cell_type": "code",
   "execution_count": 16,
   "metadata": {},
   "outputs": [],
   "source": [
    "from sklearn.ensemble import RandomForestClassifier\n",
    "\n",
    "rf = RandomForestClassifier(n_estimators = 100,\n",
    "                           n_jobs = -1,\n",
    "                           max_depth=None,\n",
    "                           min_samples_split=2,\n",
    "                           min_samples_leaf=1,\n",
    "                           bootstrap = True,\n",
    "                           random_state = 0)"
   ]
  },
  {
   "cell_type": "code",
   "execution_count": 127,
   "metadata": {},
   "outputs": [
    {
     "data": {
      "text/plain": [
       "RandomForestClassifier(n_jobs=-1, random_state=0)"
      ]
     },
     "execution_count": 127,
     "metadata": {},
     "output_type": "execute_result"
    }
   ],
   "source": [
    "rf.fit(overx, overy)"
   ]
  },
  {
   "cell_type": "code",
   "execution_count": 128,
   "metadata": {},
   "outputs": [
    {
     "data": {
      "text/plain": [
       "0.8163542340012928"
      ]
     },
     "execution_count": 128,
     "metadata": {},
     "output_type": "execute_result"
    }
   ],
   "source": [
    "y_pred_rf = rf.predict(x_test)\n",
    "accuracy_score(y_test, y_pred_rf)"
   ]
  },
  {
   "cell_type": "code",
   "execution_count": 130,
   "metadata": {
    "collapsed": true
   },
   "outputs": [
    {
     "name": "stdout",
     "output_type": "stream",
     "text": [
      "f1 0.007707209217637041\n",
      "f2 0.003248592509896754\n",
      "f3 0.008933191529731344\n",
      "f4 0.006629392809578563\n",
      "f5 0.0024951928018567392\n",
      "f6 0.0008908347619172575\n",
      "f7 0.003681972359597744\n",
      "f8 0.015312908297742442\n",
      "f9 0.014012878844305444\n",
      "f10 0.0046303208413537335\n",
      "f11 0.026734896901676863\n",
      "f12 0.0026735663466007716\n",
      "f13 0.006814541252453745\n",
      "f14 0.026388115366510364\n",
      "f15 0.021735298344925838\n",
      "f16 0.011906331209617442\n",
      "f17 0.015245666359782577\n",
      "f18 0.006482788189036314\n",
      "f19 0.0040669637686386\n",
      "f20 0.006492524889075433\n",
      "f21 0.0035600930946410253\n",
      "f22 0.006471730177274356\n",
      "f23 0.004780158154707544\n",
      "f24 0.02047539226218694\n",
      "f25 0.0302187387966355\n",
      "f26 0.016202251540012435\n",
      "f27 0.007388537870285722\n",
      "f28 0.002019979346448447\n",
      "f29 0.00505157120999647\n",
      "f30 0.007602626328326304\n",
      "f31 0.0015886427426779807\n",
      "f32 0.014543241711705348\n",
      "f33 0.01090103841901524\n",
      "f34 0.0858320465259908\n",
      "f35 0.0073451856466042265\n",
      "f36 0.020712235655421997\n",
      "f37 0.006643112197430447\n",
      "f38 0.007771207928028711\n",
      "f39 0.021217407941523804\n",
      "f40 0.023092684006603147\n",
      "f41 0.008130588608889095\n",
      "f42 0.015172945472447373\n",
      "f43 0.012976999932236008\n",
      "f44 0.005790649632083268\n",
      "f45 0.006259051010602279\n",
      "f46 0.006789360883534493\n",
      "f47 0.007283980140040069\n",
      "f48 0.018011265319203863\n",
      "f49 0.003196361109082694\n",
      "f50 0.014432245621536756\n",
      "f51 0.001174340022993517\n",
      "f52 0.002711693019013935\n",
      "f53 0.011133223642899297\n",
      "f54 0.010100608388410297\n",
      "f55 0.0058398104756596765\n",
      "f56 0.008901428452569821\n",
      "f57 0.0056698832616322815\n",
      "f58 0.005810264872165119\n",
      "f59 0.009613664331279947\n",
      "f60 0.024420297344230374\n",
      "f61 0.0042346619600239135\n",
      "f62 0.023117482660301333\n",
      "f63 0.0027509868760973418\n",
      "f64 0.014596806181688064\n",
      "f65 0.0039323504953392065\n",
      "f66 0.00807641265401186\n",
      "f67 0.03126217157920411\n",
      "f68 0.010739058355175461\n",
      "f69 0.012666441072413069\n",
      "f70 0.011183887357411645\n",
      "f71 0.009161430915707265\n",
      "f72 0.013086690969612746\n",
      "f73 0.005006482740843914\n",
      "f74 0.005325420183893858\n",
      "f75 0.015541575675690422\n",
      "f76 0.010527286089757747\n",
      "f77 0.004180872435267715\n",
      "f78 0.008937778366311103\n",
      "f79 0.005983098888258\n",
      "f80 0.006613081931947053\n",
      "f81 0.0024475463829916\n",
      "f82 0.0012473396742310003\n",
      "f83 0.006804850495193434\n",
      "f84 0.0017968740441329826\n",
      "f85 0.010696255152914296\n",
      "f86 0.023817250570694826\n",
      "f87 0.006618835999115506\n",
      "f88 0.016313213888510716\n",
      "f89 0.004682148398484292\n",
      "f90 0.01847187817992066\n",
      "f91 0.0064604951846442904\n",
      "f92 0.008653087714264889\n",
      "f93 0.0021465172279841052\n"
     ]
    }
   ],
   "source": [
    "for name, importance in zip(datax.columns, rf.feature_importances_):\n",
    "    print(name, importance)"
   ]
  },
  {
   "cell_type": "code",
   "execution_count": 17,
   "metadata": {},
   "outputs": [
    {
     "data": {
      "text/plain": [
       "RandomForestClassifier(n_jobs=-1, random_state=0)"
      ]
     },
     "execution_count": 17,
     "metadata": {},
     "output_type": "execute_result"
    }
   ],
   "source": [
    "rf.fit(overx_nore, overy_nore)"
   ]
  },
  {
   "cell_type": "code",
   "execution_count": 18,
   "metadata": {},
   "outputs": [
    {
     "data": {
      "text/plain": [
       "0.8115061409179056"
      ]
     },
     "execution_count": 18,
     "metadata": {},
     "output_type": "execute_result"
    }
   ],
   "source": [
    "y_pred_rf_nore = rf.predict(x_test_nore)\n",
    "accuracy_score(y_test_nore, y_pred_rf_nore)"
   ]
  },
  {
   "cell_type": "code",
   "execution_count": 19,
   "metadata": {},
   "outputs": [
    {
     "data": {
      "text/plain": [
       "0.8145442792501616"
      ]
     },
     "execution_count": 19,
     "metadata": {},
     "output_type": "execute_result"
    }
   ],
   "source": [
    "rf.fit(overx_norelow, overy_norelow)\n",
    "y_pred_rf_norelow = rf.predict(x_test_norelow)\n",
    "accuracy_score(y_test_norelow, y_pred_rf_norelow)"
   ]
  },
  {
   "cell_type": "code",
   "execution_count": 22,
   "metadata": {},
   "outputs": [
    {
     "data": {
      "text/plain": [
       "0.6023917259211377"
      ]
     },
     "execution_count": 22,
     "metadata": {},
     "output_type": "execute_result"
    }
   ],
   "source": [
    "from sklearn.naive_bayes import GaussianNB\n",
    "GNB = GaussianNB()\n",
    "GNB.fit(overx, overy)\n",
    "y_pred_GNB_over=GNB.predict(x_test)\n",
    "accuracy_score(y_test, y_pred_GNB_over)"
   ]
  },
  {
   "cell_type": "code",
   "execution_count": 24,
   "metadata": {},
   "outputs": [
    {
     "data": {
      "text/plain": [
       "0.6046541693600517"
      ]
     },
     "execution_count": 24,
     "metadata": {},
     "output_type": "execute_result"
    }
   ],
   "source": [
    "GNB.fit(overx_nore, overy_nore)\n",
    "y_pred_GNB_nore=GNB.predict(x_test_nore)\n",
    "accuracy_score(y_test, y_pred_GNB_nore)"
   ]
  },
  {
   "cell_type": "code",
   "execution_count": 25,
   "metadata": {},
   "outputs": [
    {
     "data": {
      "text/plain": [
       "0.629541047188106"
      ]
     },
     "execution_count": 25,
     "metadata": {},
     "output_type": "execute_result"
    }
   ],
   "source": [
    "GNB.fit(overx_norelow, overy_norelow)\n",
    "y_pred_GNB_norelow=GNB.predict(x_test_norelow)\n",
    "accuracy_score(y_test, y_pred_GNB_norelow)"
   ]
  },
  {
   "cell_type": "code",
   "execution_count": null,
   "metadata": {},
   "outputs": [],
   "source": [
    "small=np.zeros(shape=(93,93), dtype=float)\n",
    "for i in range(93):\n",
    "    for j in range(93):\n",
    "        xixj=datax.iloc[0:61878,i]*datax.iloc[0:61878,j]\n",
    "        x = sm.add_constant(xixj)\n",
    "        model = sm.OLS(datay,x)\n",
    "        results = model.fit()\n",
    "        small[i,j]=results.tvalues[0]"
   ]
  },
  {
   "cell_type": "code",
   "execution_count": null,
   "metadata": {},
   "outputs": [],
   "source": [
    "pd.DataFrame(small).to_csv(\"small.csv\")"
   ]
  },
  {
   "cell_type": "code",
   "execution_count": 5,
   "metadata": {},
   "outputs": [],
   "source": [
    "small=np.zeros(shape=(93,1), dtype=float)\n",
    "for i in range(93):\n",
    "    xi=datax.iloc[0:61878,i]\n",
    "    x = sm.add_constant(xi)\n",
    "    model = sm.OLS(datay,x)\n",
    "    results = model.fit()\n",
    "    small[i]=results.tvalues[0]"
   ]
  },
  {
   "cell_type": "code",
   "execution_count": 6,
   "metadata": {},
   "outputs": [],
   "source": [
    "pd.DataFrame(small).to_csv(\"small.csv\")"
   ]
  },
  {
   "cell_type": "code",
   "execution_count": 12,
   "metadata": {},
   "outputs": [],
   "source": [
    "#import rulekit - commenting out everything related to RIPPER because it won't run if the user doesn't have JAVE JRE installed\n",
    "#from rulekit import RuleKit\n",
    "#RuleKit.init()\n",
    "#!pip install rulekit --user \n",
    "#!python -m rulekit download_jar\n",
    "\n",
    "# from rulekit.classification import RuleClassifier\n",
    "# from rulekit.params import Measures\n",
    "# from IPython.display import display"
   ]
  },
  {
   "cell_type": "code",
   "execution_count": null,
   "metadata": {},
   "outputs": [],
   "source": [
    "# # Ripper\n",
    "# clf = RuleClassifier(\n",
    "#     induction_measure=Measures.CFoil,\n",
    "#     pruning_measure=Measures.Ripper,\n",
    "#     voting_measure=Measures.Ripper,\n",
    "# )\n",
    "# clf.fit(x_train, y_train)\n",
    "# c2_ruleset = clf.model\n",
    "# y_pred = clf.predict(x_test, return_metrics=False)\n",
    "\n"
   ]
  },
  {
   "cell_type": "code",
   "execution_count": null,
   "metadata": {},
   "outputs": [],
   "source": [
    "# metrics.accuracy_score(y_test, y_pred)"
   ]
  },
  {
   "cell_type": "code",
   "execution_count": null,
   "metadata": {},
   "outputs": [],
   "source": [
    "# metrics.confusion_matrix(y_test, y_pred)"
   ]
  }
 ],
 "metadata": {
  "kernelspec": {
   "display_name": "Python 3",
   "language": "python",
   "name": "python3"
  },
  "language_info": {
   "codemirror_mode": {
    "name": "ipython",
    "version": 3
   },
   "file_extension": ".py",
   "mimetype": "text/x-python",
   "name": "python",
   "nbconvert_exporter": "python",
   "pygments_lexer": "ipython3",
   "version": "3.8.5"
  }
 },
 "nbformat": 4,
 "nbformat_minor": 4
}
